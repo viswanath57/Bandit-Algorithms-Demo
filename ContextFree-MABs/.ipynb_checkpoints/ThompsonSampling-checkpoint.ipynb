{
 "cells": [
  {
   "cell_type": "code",
   "execution_count": 9,
   "id": "f821ba1d",
   "metadata": {},
   "outputs": [],
   "source": [
    "import numpy as np"
   ]
  },
  {
   "cell_type": "code",
   "execution_count": 7,
   "id": "f2786a75",
   "metadata": {},
   "outputs": [],
   "source": [
    "class ThmopsonSampling():\n",
    "    def __init__(self, alpha=[],beta=[]):\n",
    "        self.alpha = alpha  #no. of successes\n",
    "        self.beta  = beta   #no. of failures\n",
    "        \n",
    "    def __repr__(self):\n",
    "        return ( \"Thompson Sampling({!r}{!r})\".format(self.alpha, self.beta))\n",
    "    \n",
    "    def initialize(self, n_arms):\n",
    "        self.alpha = [1 for col in range(n_arms)]\n",
    "        self.beta  = [1 for col in range(n_arms)]\n",
    "        \n",
    "    def select_arm (self):\n",
    "        ts_values = [np.random.beta(self.alpha[arm], self.beta[arm]) for arm in range( len(self.alpha) )]                    \n",
    "        return ts_values.index(max(ts_values))\n",
    "    \n",
    "    def update(self, chosen_arm, reward):  \n",
    "        if reward ==1:\n",
    "            self.alpha[chosen_arm] += 1            \n",
    "        else:\n",
    "            self.beta[chosen_arm] += 1\n",
    "        "
   ]
  }
 ],
 "metadata": {
  "kernelspec": {
   "display_name": "Python 3 (ipykernel)",
   "language": "python",
   "name": "python3"
  },
  "language_info": {
   "codemirror_mode": {
    "name": "ipython",
    "version": 3
   },
   "file_extension": ".py",
   "mimetype": "text/x-python",
   "name": "python",
   "nbconvert_exporter": "python",
   "pygments_lexer": "ipython3",
   "version": "3.8.2"
  }
 },
 "nbformat": 4,
 "nbformat_minor": 5
}
